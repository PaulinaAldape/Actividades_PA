{
 "cells": [
  {
   "cell_type": "markdown",
   "id": "fa2893df",
   "metadata": {},
   "source": [
    "## Actividad 14"
   ]
  },
  {
   "cell_type": "markdown",
   "id": "938ba813",
   "metadata": {},
   "source": [
    "### Crea una calculadorea con al menos 4 operaciones básicas"
   ]
  },
  {
   "cell_type": "code",
   "execution_count": 7,
   "id": "48cdea58",
   "metadata": {},
   "outputs": [
    {
     "name": "stdout",
     "output_type": "stream",
     "text": [
      "ingrese el primer numero: 25\n",
      "ingrese el segundo numero: 2\n",
      "el resultado de la suma es:  27.0\n",
      "el resultado de la multiplicación es:  50.0\n",
      "el resultado de la resta es:  23.0\n",
      "el resultado de la división es:  12.5\n",
      "el resultado de la raiz es: 5.0\n",
      "el resultado de elevar el primer numero a la potencia del segundo numero: 625.0\n"
     ]
    }
   ],
   "source": [
    "class calculadora:\n",
    "    '''Clase que representa una calculadora'''\n",
    "    \n",
    "    def __init__(self, num1, num2):\n",
    "        self.num1 = float(num1)\n",
    "        self.num2 = float(num2)\n",
    "\n",
    "    def sumar(self):\n",
    "        suma = self.num1 + self.num2\n",
    "        print(\"el resultado de la suma es: \", suma)\n",
    "\n",
    "    def restar(self):\n",
    "        resta = self.num1 - self.num2 \n",
    "        print(\"el resultado de la resta es: \", resta)\n",
    "\n",
    "    def multiplicar(self):\n",
    "        multiplicacion = self.num1 * self.num2 \n",
    "        print(\"el resultado de la multiplicación es: \", multiplicacion)\n",
    "\n",
    "    def dividir(self):\n",
    "        division = self.num1 / self.num2\n",
    "        print(\"el resultado de la división es: \", division)\n",
    "    \n",
    "    #Avanzada\n",
    "    def raiz(self):\n",
    "        if self.num2 ==0:\n",
    "            print(\"No es posible realizar la operación\")\n",
    "        else:\n",
    "            raiz=self.num1**(1/self.num2)\n",
    "            print(\"el resultado de la raiz es:\", raiz)\n",
    "    \n",
    "    def potencia(self):\n",
    "        if self.num2 and self.num1 == 0:\n",
    "            print(\"indefinido\")\n",
    "        else:\n",
    "            potencia=self.num1**self.num2\n",
    "            print(\"el resultado de elevar el primer numero a la potencia del segundo numero:\",potencia)\n",
    "        \n",
    "\n",
    "\n",
    "num1 = input(\"ingrese el primer numero: \")\n",
    "num2 = input(\"ingrese el segundo numero: \")\n",
    "\n",
    "calculadora = calculadora(num1, num2)\n",
    "calculadora.sumar()\n",
    "calculadora.multiplicar()\n",
    "calculadora.restar()\n",
    "calculadora.dividir()\n",
    "calculadora.raiz()\n",
    "calculadora.potencia()"
   ]
  },
  {
   "cell_type": "code",
   "execution_count": null,
   "id": "9cac1832",
   "metadata": {},
   "outputs": [],
   "source": []
  }
 ],
 "metadata": {
  "kernelspec": {
   "display_name": "Python 3 (ipykernel)",
   "language": "python",
   "name": "python3"
  },
  "language_info": {
   "codemirror_mode": {
    "name": "ipython",
    "version": 3
   },
   "file_extension": ".py",
   "mimetype": "text/x-python",
   "name": "python",
   "nbconvert_exporter": "python",
   "pygments_lexer": "ipython3",
   "version": "3.9.12"
  }
 },
 "nbformat": 4,
 "nbformat_minor": 5
}
