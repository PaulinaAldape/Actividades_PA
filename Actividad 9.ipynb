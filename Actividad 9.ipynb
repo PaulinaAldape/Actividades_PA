{
 "cells": [
  {
   "cell_type": "markdown",
   "id": "382198eb",
   "metadata": {},
   "source": [
    "# Actividad 9"
   ]
  },
  {
   "cell_type": "markdown",
   "id": "b9cbc8ac",
   "metadata": {},
   "source": [
    "1.Pídale al usuario que ingrese dos números y muestre cual de los dos es menor.Considere el caso en el que ambos números son iguales."
   ]
  },
  {
   "cell_type": "code",
   "execution_count": 4,
   "id": "2540af18",
   "metadata": {},
   "outputs": [
    {
     "name": "stdout",
     "output_type": "stream",
     "text": [
      "Por favor, escriba un número entero: 25\n",
      "Por favor, escriba un número entero: 23\n",
      "El número 2 23 es menor al número 1 25\n"
     ]
    }
   ],
   "source": [
    "num1=int(input(\"Por favor, escriba un número entero: \"))\n",
    "num2=int(input(\"Por favor, escriba un número entero: \"))\n",
    "\n",
    "if num1<num2:\n",
    "    print('El número 1: {0} es menor al número 2: {1}'.format(num1,num2))\n",
    "elif num1>num2:\n",
    "    print('El número 2: {0} es menor al número 1: {1}'.format(num2,num1))\n",
    "elif num1==num2:\n",
    "    print('El número 1: {0} es igual al número 2: {1}'.format(num1,num2))"
   ]
  },
  {
   "cell_type": "code",
   "execution_count": null,
   "id": "61e6ba01",
   "metadata": {},
   "outputs": [],
   "source": []
  }
 ],
 "metadata": {
  "kernelspec": {
   "display_name": "Python 3",
   "language": "python",
   "name": "python3"
  },
  "language_info": {
   "codemirror_mode": {
    "name": "ipython",
    "version": 3
   },
   "file_extension": ".py",
   "mimetype": "text/x-python",
   "name": "python",
   "nbconvert_exporter": "python",
   "pygments_lexer": "ipython3",
   "version": "3.6.13"
  }
 },
 "nbformat": 4,
 "nbformat_minor": 5
}
