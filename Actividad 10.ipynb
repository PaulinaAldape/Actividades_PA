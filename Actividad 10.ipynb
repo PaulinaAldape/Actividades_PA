{
 "cells": [
  {
   "cell_type": "markdown",
   "id": "6f780c9a",
   "metadata": {},
   "source": [
    "# Actividad 10"
   ]
  },
  {
   "cell_type": "markdown",
   "id": "2c2db098",
   "metadata": {},
   "source": [
    "### Básica"
   ]
  },
  {
   "cell_type": "code",
   "execution_count": 1,
   "id": "70271e8b",
   "metadata": {},
   "outputs": [],
   "source": [
    "#Generar un diccionario\n",
    "dicc={\"Miguel\":18,\"Edwin\":23,\"Erik\":28,\"Pedro\":16,\"Pau\":25,\"Liliana\":20,\"Marco\":25,\"Claudia\":21,\"Roland\":25,\"Gerardo\":9,\"Jonatnan\":15,\"Paco\":13,\"Yolanda\":4,\"Julio\":28,\"Victor\":3,\"Gustavo\":8,\"Paulina\":25}"
   ]
  },
  {
   "cell_type": "code",
   "execution_count": 2,
   "id": "4323ffec",
   "metadata": {},
   "outputs": [
    {
     "data": {
      "text/plain": [
       "{'Miguel': 18,\n",
       " 'Edwin': 23,\n",
       " 'Erik': 28,\n",
       " 'Pedro': 16,\n",
       " 'Pau': 25,\n",
       " 'Liliana': 20,\n",
       " 'Marco': 25,\n",
       " 'Claudia': 21,\n",
       " 'Roland': 25,\n",
       " 'Gerardo': 9,\n",
       " 'Jonatnan': 15,\n",
       " 'Paco': 13,\n",
       " 'Yolanda': 4,\n",
       " 'Julio': 28,\n",
       " 'Victor': 3,\n",
       " 'Gustavo': 8,\n",
       " 'Paulina': 25}"
      ]
     },
     "execution_count": 2,
     "metadata": {},
     "output_type": "execute_result"
    }
   ],
   "source": [
    "dicc"
   ]
  },
  {
   "cell_type": "code",
   "execution_count": 12,
   "id": "f46a5cb0",
   "metadata": {},
   "outputs": [
    {
     "name": "stdout",
     "output_type": "stream",
     "text": [
      "El nombre es:  Miguel   El número es:  18\n",
      "El nombre es:  Edwin   El número es:  23\n",
      "El nombre es:  Erik   El número es:  28\n",
      "El nombre es:  Pedro   El número es:  16\n",
      "El nombre es:  Pau   El número es:  25\n",
      "El nombre es:  Liliana   El número es:  20\n",
      "El nombre es:  Marco   El número es:  25\n",
      "El nombre es:  Claudia   El número es:  21\n",
      "El nombre es:  Roland   El número es:  25\n",
      "El nombre es:  Gerardo   El número es:  9\n",
      "El nombre es:  Jonatnan   El número es:  15\n",
      "El nombre es:  Paco   El número es:  13\n",
      "El nombre es:  Yolanda   El número es:  4\n",
      "El nombre es:  Julio   El número es:  28\n",
      "El nombre es:  Victor   El número es:  3\n",
      "El nombre es:  Gustavo   El número es:  8\n",
      "El nombre es:  Paulina   El número es:  25\n",
      "El valor mas grande es: 28\n",
      "El valor mas pequeño es: 3\n"
     ]
    }
   ],
   "source": [
    "for k,v in dicc.items():\n",
    "    print(\"El nombre es: \",k,\" \",\"El número es: \",v)\n",
    "# la llave con el valor más grande\n",
    "key2 = max(dicc, key = lambda k: dicc[k])\n",
    "# obtener el valor mas grande de esa llave\n",
    "print(\"El valor mas grande es:\", dicc[key2])\n",
    "# la llave con el valor mas pequeño\n",
    "key3 = min(dicc, key = lambda k: dicc[k])\n",
    "# obtener el valor mas pequeño de la llave\n",
    "print(\"El valor mas pequeño es:\", dicc[key3])\n",
    "\n",
    "    "
   ]
  },
  {
   "cell_type": "markdown",
   "id": "1f84c8d5",
   "metadata": {},
   "source": [
    "### Avanzada"
   ]
  },
  {
   "cell_type": "code",
   "execution_count": 1,
   "id": "0383a194",
   "metadata": {},
   "outputs": [],
   "source": [
    "lista_nombres=[\"Miguel\",\"Edwin\",\"Erik\",\"Pedro\",\"Pau\",\"Liliana\",\"Marco\",\"Claudia\",\"Roland\",\"Gerardo\",\"Jonatnan\",\"Paco\",\"Yolanda\",\"Julio\",\"Victor\",\"Gustavo\",\"Paulina\"]"
   ]
  },
  {
   "cell_type": "code",
   "execution_count": 2,
   "id": "c4c25a3b",
   "metadata": {
    "scrolled": true
   },
   "outputs": [
    {
     "data": {
      "text/plain": [
       "['Miguel',\n",
       " 'Edwin',\n",
       " 'Erik',\n",
       " 'Pedro',\n",
       " 'Pau',\n",
       " 'Liliana',\n",
       " 'Marco',\n",
       " 'Claudia',\n",
       " 'Roland',\n",
       " 'Gerardo',\n",
       " 'Jonatnan',\n",
       " 'Paco',\n",
       " 'Yolanda',\n",
       " 'Julio',\n",
       " 'Victor',\n",
       " 'Gustavo',\n",
       " 'Paulina']"
      ]
     },
     "execution_count": 2,
     "metadata": {},
     "output_type": "execute_result"
    }
   ],
   "source": [
    "lista_nombres"
   ]
  },
  {
   "cell_type": "code",
   "execution_count": 8,
   "id": "0bad1ee5",
   "metadata": {},
   "outputs": [
    {
     "data": {
      "text/plain": [
       "17"
      ]
     },
     "execution_count": 8,
     "metadata": {},
     "output_type": "execute_result"
    }
   ],
   "source": [
    "len(lista_nombres)"
   ]
  },
  {
   "cell_type": "code",
   "execution_count": 5,
   "id": "9ff5aa3d",
   "metadata": {},
   "outputs": [],
   "source": [
    "import random"
   ]
  },
  {
   "cell_type": "code",
   "execution_count": 11,
   "id": "72e5579f",
   "metadata": {},
   "outputs": [],
   "source": [
    "lista_numeros=random.sample(range(0,100), 17)"
   ]
  },
  {
   "cell_type": "code",
   "execution_count": 12,
   "id": "f6e1ca56",
   "metadata": {},
   "outputs": [
    {
     "data": {
      "text/plain": [
       "[35, 2, 41, 46, 26, 81, 47, 51, 77, 85, 65, 87, 49, 11, 57, 30, 74]"
      ]
     },
     "execution_count": 12,
     "metadata": {},
     "output_type": "execute_result"
    }
   ],
   "source": [
    "lista_numeros"
   ]
  },
  {
   "cell_type": "code",
   "execution_count": 13,
   "id": "a40ef611",
   "metadata": {},
   "outputs": [],
   "source": [
    "dicc_random = dict(zip(lista_nombres, lista_numeros))"
   ]
  },
  {
   "cell_type": "code",
   "execution_count": 14,
   "id": "0494ba40",
   "metadata": {},
   "outputs": [
    {
     "data": {
      "text/plain": [
       "{'Miguel': 35,\n",
       " 'Edwin': 2,\n",
       " 'Erik': 41,\n",
       " 'Pedro': 46,\n",
       " 'Pau': 26,\n",
       " 'Liliana': 81,\n",
       " 'Marco': 47,\n",
       " 'Claudia': 51,\n",
       " 'Roland': 77,\n",
       " 'Gerardo': 85,\n",
       " 'Jonatnan': 65,\n",
       " 'Paco': 87,\n",
       " 'Yolanda': 49,\n",
       " 'Julio': 11,\n",
       " 'Victor': 57,\n",
       " 'Gustavo': 30,\n",
       " 'Paulina': 74}"
      ]
     },
     "execution_count": 14,
     "metadata": {},
     "output_type": "execute_result"
    }
   ],
   "source": [
    "dicc_random"
   ]
  },
  {
   "cell_type": "code",
   "execution_count": 15,
   "id": "ff6142db",
   "metadata": {},
   "outputs": [
    {
     "name": "stdout",
     "output_type": "stream",
     "text": [
      "El nombre es:  Miguel   El número es:  35\n",
      "El nombre es:  Edwin   El número es:  2\n",
      "El nombre es:  Erik   El número es:  41\n",
      "El nombre es:  Pedro   El número es:  46\n",
      "El nombre es:  Pau   El número es:  26\n",
      "El nombre es:  Liliana   El número es:  81\n",
      "El nombre es:  Marco   El número es:  47\n",
      "El nombre es:  Claudia   El número es:  51\n",
      "El nombre es:  Roland   El número es:  77\n",
      "El nombre es:  Gerardo   El número es:  85\n",
      "El nombre es:  Jonatnan   El número es:  65\n",
      "El nombre es:  Paco   El número es:  87\n",
      "El nombre es:  Yolanda   El número es:  49\n",
      "El nombre es:  Julio   El número es:  11\n",
      "El nombre es:  Victor   El número es:  57\n",
      "El nombre es:  Gustavo   El número es:  30\n",
      "El nombre es:  Paulina   El número es:  74\n",
      "El valor mas grande es: 87\n",
      "El valor mas pequeño es: 2\n"
     ]
    }
   ],
   "source": [
    "for k,v in dicc_random.items():\n",
    "    print(\"El nombre es: \",k,\" \",\"El número es: \",v)\n",
    "# la llave con el valor más grande\n",
    "key_random = max(dicc_random, key = lambda k: dicc_random[k])\n",
    "# obtener el valor mas grande de esa llave\n",
    "print(\"El valor mas grande es:\", dicc_random[key_random])\n",
    "# la llave con el valor mas pequeño\n",
    "key_random2 = min(dicc_random, key = lambda k: dicc_random[k])\n",
    "# obtener el valor mas pequeño de la llave\n",
    "print(\"El valor mas pequeño es:\", dicc_random[key_random2])\n"
   ]
  },
  {
   "cell_type": "code",
   "execution_count": null,
   "id": "7c513629",
   "metadata": {},
   "outputs": [],
   "source": []
  }
 ],
 "metadata": {
  "kernelspec": {
   "display_name": "Python 3",
   "language": "python",
   "name": "python3"
  },
  "language_info": {
   "codemirror_mode": {
    "name": "ipython",
    "version": 3
   },
   "file_extension": ".py",
   "mimetype": "text/x-python",
   "name": "python",
   "nbconvert_exporter": "python",
   "pygments_lexer": "ipython3",
   "version": "3.6.13"
  }
 },
 "nbformat": 4,
 "nbformat_minor": 5
}
