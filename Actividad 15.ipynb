{
 "cells": [
  {
   "cell_type": "markdown",
   "id": "899a8e0a",
   "metadata": {},
   "source": [
    "# Actividad 15"
   ]
  },
  {
   "cell_type": "markdown",
   "id": "956ff4a5",
   "metadata": {},
   "source": [
    "### Obtener la diferencia entre el salario más alto y el más pequeño."
   ]
  },
  {
   "cell_type": "markdown",
   "id": "4b90d4e9",
   "metadata": {},
   "source": [
    "### BÁSICA"
   ]
  },
  {
   "cell_type": "code",
   "execution_count": 3,
   "id": "d94c35d2",
   "metadata": {},
   "outputs": [],
   "source": [
    "import pandas as pd\n",
    "import numpy as np"
   ]
  },
  {
   "cell_type": "code",
   "execution_count": 1,
   "id": "8b48a662",
   "metadata": {},
   "outputs": [],
   "source": [
    "#diccionario anidado\n",
    "dict1={\n",
    "    \"Nombre\":[\"Ringo\",\"John\",\"Paul\",\"George\",\"Yoko\"],\n",
    "    \"Edad\":[45,34,42,38,47],\n",
    "    \"Salario\":[12000,14000,13000,11000,10000],\n",
    "    \"Genero\":[\"M\",\"M\",\"M\",\"M\",\"F\"]    \n",
    "}"
   ]
  },
  {
   "cell_type": "code",
   "execution_count": 4,
   "id": "f01aed49",
   "metadata": {},
   "outputs": [],
   "source": [
    "#Trasnformar el diccionario en un data frame\n",
    "data=pd.DataFrame(dict1)"
   ]
  },
  {
   "cell_type": "code",
   "execution_count": 11,
   "id": "ba932ffe",
   "metadata": {},
   "outputs": [
    {
     "data": {
      "text/plain": [
       "14000"
      ]
     },
     "execution_count": 11,
     "metadata": {},
     "output_type": "execute_result"
    }
   ],
   "source": [
    "#obtener la edad mas grande\n",
    "salario_max=data[\"Salario\"].max() \n",
    "salario_max"
   ]
  },
  {
   "cell_type": "code",
   "execution_count": 13,
   "id": "93f1d36d",
   "metadata": {},
   "outputs": [
    {
     "data": {
      "text/plain": [
       "10000"
      ]
     },
     "execution_count": 13,
     "metadata": {},
     "output_type": "execute_result"
    }
   ],
   "source": [
    "#obtener la edad mas pequeña\n",
    "salario_min=data[\"Salario\"].min() \n",
    "salario_min"
   ]
  },
  {
   "cell_type": "code",
   "execution_count": 14,
   "id": "8f888a19",
   "metadata": {},
   "outputs": [],
   "source": [
    "diferencia=salario_max-salario_min"
   ]
  },
  {
   "cell_type": "code",
   "execution_count": 15,
   "id": "a4607024",
   "metadata": {},
   "outputs": [
    {
     "data": {
      "text/plain": [
       "4000"
      ]
     },
     "execution_count": 15,
     "metadata": {},
     "output_type": "execute_result"
    }
   ],
   "source": [
    "diferencia"
   ]
  },
  {
   "cell_type": "markdown",
   "id": "952730ed",
   "metadata": {},
   "source": [
    "### AVANZADO"
   ]
  },
  {
   "cell_type": "markdown",
   "id": "30e15714",
   "metadata": {},
   "source": [
    "### Obtén los valores estadísticos de los salarios. (media, mediana, desviación estándar, etc)"
   ]
  },
  {
   "cell_type": "code",
   "execution_count": 17,
   "id": "bc64dc62",
   "metadata": {},
   "outputs": [
    {
     "data": {
      "text/plain": [
       "count        5.00000\n",
       "mean     12000.00000\n",
       "std       1581.13883\n",
       "min      10000.00000\n",
       "25%      11000.00000\n",
       "50%      12000.00000\n",
       "75%      13000.00000\n",
       "max      14000.00000\n",
       "Name: Salario, dtype: float64"
      ]
     },
     "execution_count": 17,
     "metadata": {},
     "output_type": "execute_result"
    }
   ],
   "source": [
    "data[\"Salario\"].describe()"
   ]
  },
  {
   "cell_type": "code",
   "execution_count": null,
   "id": "35aa6fb3",
   "metadata": {},
   "outputs": [],
   "source": []
  }
 ],
 "metadata": {
  "kernelspec": {
   "display_name": "Python 3 (ipykernel)",
   "language": "python",
   "name": "python3"
  },
  "language_info": {
   "codemirror_mode": {
    "name": "ipython",
    "version": 3
   },
   "file_extension": ".py",
   "mimetype": "text/x-python",
   "name": "python",
   "nbconvert_exporter": "python",
   "pygments_lexer": "ipython3",
   "version": "3.9.12"
  }
 },
 "nbformat": 4,
 "nbformat_minor": 5
}
