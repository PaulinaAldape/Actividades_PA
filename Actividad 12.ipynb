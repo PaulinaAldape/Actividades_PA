{
 "cells": [
  {
   "cell_type": "markdown",
   "id": "f18686d7",
   "metadata": {},
   "source": [
    "# Actividad 12"
   ]
  },
  {
   "cell_type": "markdown",
   "id": "cb662902",
   "metadata": {},
   "source": [
    "### Genera una función que obtenga los valores de x1 y x2 a través de la fomula cuadrática."
   ]
  },
  {
   "cell_type": "code",
   "execution_count": 19,
   "id": "9cd55879",
   "metadata": {},
   "outputs": [
    {
     "name": "stdout",
     "output_type": "stream",
     "text": [
      "Escribe el valor de parametro a:5\n",
      "Escribe el valor de parametro b:4\n",
      "Escribe el valor de parametro c:200\n"
     ]
    }
   ],
   "source": [
    "#Definir los valores de los parametros\n",
    "a=float(input(\"Escribe el valor de parametro a:\"))\n",
    "b=float(input(\"Escribe el valor de parametro b:\"))\n",
    "c=float(input(\"Escribe el valor de parametro c:\"))\n",
    "\n",
    "#Definir el discriminante\n",
    "def d(a,b,c):\n",
    "    return ((b**2) - (4*a*c))"
   ]
  },
  {
   "cell_type": "code",
   "execution_count": 20,
   "id": "bb0b3bbd",
   "metadata": {},
   "outputs": [],
   "source": [
    "dis=d(a,b,c)"
   ]
  },
  {
   "cell_type": "code",
   "execution_count": 21,
   "id": "69c25cf9",
   "metadata": {},
   "outputs": [
    {
     "data": {
      "text/plain": [
       "-3984.0"
      ]
     },
     "execution_count": 21,
     "metadata": {},
     "output_type": "execute_result"
    }
   ],
   "source": [
    "dis"
   ]
  },
  {
   "cell_type": "markdown",
   "id": "6d962cbe",
   "metadata": {},
   "source": [
    "## BÁSICA Y AVANZADA"
   ]
  },
  {
   "cell_type": "code",
   "execution_count": 6,
   "id": "35cc8070",
   "metadata": {},
   "outputs": [],
   "source": [
    "import math\n",
    "import cmath\n"
   ]
  },
  {
   "cell_type": "code",
   "execution_count": 7,
   "id": "877cfb68",
   "metadata": {},
   "outputs": [],
   "source": [
    "def Fgeneral(a,b,dis):\n",
    "    if dis <0:\n",
    "        print(\"La solucion es compleja\")\n",
    "        x1c = (-b-cmath.sqrt(dis))/(2*a)\n",
    "        x2c = (-b+cmath.sqrt(dis))/(2*a)\n",
    "        print(\"El valor complejo de x1 es:{0} \\nEl valor complejo de x2 es: {1}\".format(x1c,x2c))\n",
    "    else:\n",
    "        x1= (-b-math.sqrt(dis))/(2*a)\n",
    "        x2= (-b+math.sqrt(dis))/(2*a)\n",
    "        print(\"El valor de x1 es:{0} \\nEl valor de x2 es: {1}\".format(x1,x2))"
   ]
  },
  {
   "cell_type": "code",
   "execution_count": 22,
   "id": "d9ad810f",
   "metadata": {},
   "outputs": [
    {
     "name": "stdout",
     "output_type": "stream",
     "text": [
      "La solucion es compleja\n",
      "El valor complejo de x1 es:(-0.4-6.3118935352238j) \n",
      "El valor complejo de x2 es: (-0.4+6.3118935352238j)\n"
     ]
    }
   ],
   "source": [
    "Fgeneral(a,b,dis)"
   ]
  },
  {
   "cell_type": "code",
   "execution_count": null,
   "id": "1054204d",
   "metadata": {},
   "outputs": [],
   "source": []
  }
 ],
 "metadata": {
  "kernelspec": {
   "display_name": "Python 3",
   "language": "python",
   "name": "python3"
  },
  "language_info": {
   "codemirror_mode": {
    "name": "ipython",
    "version": 3
   },
   "file_extension": ".py",
   "mimetype": "text/x-python",
   "name": "python",
   "nbconvert_exporter": "python",
   "pygments_lexer": "ipython3",
   "version": "3.6.13"
  }
 },
 "nbformat": 4,
 "nbformat_minor": 5
}
