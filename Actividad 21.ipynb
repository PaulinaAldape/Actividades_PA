{
 "cells": [
  {
   "cell_type": "markdown",
   "id": "71d0c2f2",
   "metadata": {},
   "source": [
    "# Actividad 21"
   ]
  },
  {
   "cell_type": "markdown",
   "id": "0aaf8bde",
   "metadata": {},
   "source": [
    "### Crea / Presenta un algoritmo que genere los datos de \"reading_score\" y \"math_score\", en variables categóricas, y guárdalo en dos columnas diferentes (cada columna nueva representa la nueva columna con variables categórica)."
   ]
  },
  {
   "cell_type": "code",
   "execution_count": 1,
   "id": "2735db69",
   "metadata": {},
   "outputs": [],
   "source": [
    "#Descargar librerias\n",
    "import pandas as pd\n",
    "import numpy as np\n",
    "import matplotlib as plot"
   ]
  },
  {
   "cell_type": "code",
   "execution_count": 2,
   "id": "ff8dbc81",
   "metadata": {},
   "outputs": [],
   "source": [
    "#Traer el archivo\n",
    "data_students=pd.read_csv(\"clean_students_complete.csv\")"
   ]
  },
  {
   "cell_type": "code",
   "execution_count": 3,
   "id": "d08da8a5",
   "metadata": {},
   "outputs": [],
   "source": [
    "#Cambiar el indice\n",
    "data_students.set_index('Student ID', inplace=True)"
   ]
  },
  {
   "cell_type": "code",
   "execution_count": 4,
   "id": "e1a2571a",
   "metadata": {},
   "outputs": [
    {
     "data": {
      "text/html": [
       "<div>\n",
       "<style scoped>\n",
       "    .dataframe tbody tr th:only-of-type {\n",
       "        vertical-align: middle;\n",
       "    }\n",
       "\n",
       "    .dataframe tbody tr th {\n",
       "        vertical-align: top;\n",
       "    }\n",
       "\n",
       "    .dataframe thead th {\n",
       "        text-align: right;\n",
       "    }\n",
       "</style>\n",
       "<table border=\"1\" class=\"dataframe\">\n",
       "  <thead>\n",
       "    <tr style=\"text-align: right;\">\n",
       "      <th></th>\n",
       "      <th>student_name</th>\n",
       "      <th>gender</th>\n",
       "      <th>grade</th>\n",
       "      <th>school_name</th>\n",
       "      <th>reading_score</th>\n",
       "      <th>math_score</th>\n",
       "    </tr>\n",
       "    <tr>\n",
       "      <th>Student ID</th>\n",
       "      <th></th>\n",
       "      <th></th>\n",
       "      <th></th>\n",
       "      <th></th>\n",
       "      <th></th>\n",
       "      <th></th>\n",
       "    </tr>\n",
       "  </thead>\n",
       "  <tbody>\n",
       "    <tr>\n",
       "      <th>0</th>\n",
       "      <td>Paul Bradley</td>\n",
       "      <td>M</td>\n",
       "      <td>9th</td>\n",
       "      <td>Huang High School</td>\n",
       "      <td>66</td>\n",
       "      <td>79</td>\n",
       "    </tr>\n",
       "    <tr>\n",
       "      <th>1</th>\n",
       "      <td>Victor Smith</td>\n",
       "      <td>M</td>\n",
       "      <td>12th</td>\n",
       "      <td>Huang High School</td>\n",
       "      <td>94</td>\n",
       "      <td>61</td>\n",
       "    </tr>\n",
       "    <tr>\n",
       "      <th>2</th>\n",
       "      <td>Kevin Rodriguez</td>\n",
       "      <td>M</td>\n",
       "      <td>12th</td>\n",
       "      <td>Huang High School</td>\n",
       "      <td>90</td>\n",
       "      <td>60</td>\n",
       "    </tr>\n",
       "  </tbody>\n",
       "</table>\n",
       "</div>"
      ],
      "text/plain": [
       "               student_name gender grade        school_name  reading_score  \\\n",
       "Student ID                                                                   \n",
       "0              Paul Bradley      M   9th  Huang High School             66   \n",
       "1              Victor Smith      M  12th  Huang High School             94   \n",
       "2           Kevin Rodriguez      M  12th  Huang High School             90   \n",
       "\n",
       "            math_score  \n",
       "Student ID              \n",
       "0                   79  \n",
       "1                   61  \n",
       "2                   60  "
      ]
     },
     "execution_count": 4,
     "metadata": {},
     "output_type": "execute_result"
    }
   ],
   "source": [
    "#Eliminar una conlumna\n",
    "data_students=data_students.drop([\"Unnamed: 0\"], axis=1)\n",
    "data_students.head(3)"
   ]
  },
  {
   "cell_type": "code",
   "execution_count": 14,
   "id": "9bfeeb30",
   "metadata": {
    "scrolled": true
   },
   "outputs": [],
   "source": [
    "#Convertir a variable categoricas\n",
    "data_students[\"cat_read\"]=data_students[\"reading_score\"]\n",
    "data_students[\"cat_math\"]=data_students[\"math_score\"]\n",
    "data_students['cat_read']=pd.Categorical(data_students.cat_read)\n",
    "data_students['cat_math']=pd.Categorical(data_students.cat_math)"
   ]
  },
  {
   "cell_type": "code",
   "execution_count": 15,
   "id": "8c4f7433",
   "metadata": {},
   "outputs": [
    {
     "data": {
      "text/html": [
       "<div>\n",
       "<style scoped>\n",
       "    .dataframe tbody tr th:only-of-type {\n",
       "        vertical-align: middle;\n",
       "    }\n",
       "\n",
       "    .dataframe tbody tr th {\n",
       "        vertical-align: top;\n",
       "    }\n",
       "\n",
       "    .dataframe thead th {\n",
       "        text-align: right;\n",
       "    }\n",
       "</style>\n",
       "<table border=\"1\" class=\"dataframe\">\n",
       "  <thead>\n",
       "    <tr style=\"text-align: right;\">\n",
       "      <th></th>\n",
       "      <th>student_name</th>\n",
       "      <th>gender</th>\n",
       "      <th>grade</th>\n",
       "      <th>school_name</th>\n",
       "      <th>reading_score</th>\n",
       "      <th>math_score</th>\n",
       "      <th>cat_read</th>\n",
       "      <th>cat_math</th>\n",
       "    </tr>\n",
       "    <tr>\n",
       "      <th>Student ID</th>\n",
       "      <th></th>\n",
       "      <th></th>\n",
       "      <th></th>\n",
       "      <th></th>\n",
       "      <th></th>\n",
       "      <th></th>\n",
       "      <th></th>\n",
       "      <th></th>\n",
       "    </tr>\n",
       "  </thead>\n",
       "  <tbody>\n",
       "    <tr>\n",
       "      <th>0</th>\n",
       "      <td>Paul Bradley</td>\n",
       "      <td>M</td>\n",
       "      <td>9th</td>\n",
       "      <td>Huang High School</td>\n",
       "      <td>66</td>\n",
       "      <td>79</td>\n",
       "      <td>Calificación Reprobatoria</td>\n",
       "      <td>Calificación Media</td>\n",
       "    </tr>\n",
       "    <tr>\n",
       "      <th>1</th>\n",
       "      <td>Victor Smith</td>\n",
       "      <td>M</td>\n",
       "      <td>12th</td>\n",
       "      <td>Huang High School</td>\n",
       "      <td>94</td>\n",
       "      <td>61</td>\n",
       "      <td>Calificación Buena</td>\n",
       "      <td>Calificación Reprobatoria</td>\n",
       "    </tr>\n",
       "    <tr>\n",
       "      <th>2</th>\n",
       "      <td>Kevin Rodriguez</td>\n",
       "      <td>M</td>\n",
       "      <td>12th</td>\n",
       "      <td>Huang High School</td>\n",
       "      <td>90</td>\n",
       "      <td>60</td>\n",
       "      <td>Calificación Buena</td>\n",
       "      <td>Calificación Reprobatoria</td>\n",
       "    </tr>\n",
       "    <tr>\n",
       "      <th>3</th>\n",
       "      <td>Richard Scott</td>\n",
       "      <td>M</td>\n",
       "      <td>12th</td>\n",
       "      <td>Huang High School</td>\n",
       "      <td>67</td>\n",
       "      <td>58</td>\n",
       "      <td>Calificación Reprobatoria</td>\n",
       "      <td>Calificación Reprobatoria</td>\n",
       "    </tr>\n",
       "    <tr>\n",
       "      <th>4</th>\n",
       "      <td>Bonnie Ray</td>\n",
       "      <td>F</td>\n",
       "      <td>9th</td>\n",
       "      <td>Huang High School</td>\n",
       "      <td>97</td>\n",
       "      <td>84</td>\n",
       "      <td>Calificación Excelente</td>\n",
       "      <td>Calificación Media</td>\n",
       "    </tr>\n",
       "    <tr>\n",
       "      <th>...</th>\n",
       "      <td>...</td>\n",
       "      <td>...</td>\n",
       "      <td>...</td>\n",
       "      <td>...</td>\n",
       "      <td>...</td>\n",
       "      <td>...</td>\n",
       "      <td>...</td>\n",
       "      <td>...</td>\n",
       "    </tr>\n",
       "    <tr>\n",
       "      <th>39165</th>\n",
       "      <td>Donna Howard</td>\n",
       "      <td>F</td>\n",
       "      <td>12th</td>\n",
       "      <td>Thomas High School</td>\n",
       "      <td>99</td>\n",
       "      <td>90</td>\n",
       "      <td>Calificación Excelente</td>\n",
       "      <td>Calificación Buena</td>\n",
       "    </tr>\n",
       "    <tr>\n",
       "      <th>39166</th>\n",
       "      <td>Dawn Bell</td>\n",
       "      <td>F</td>\n",
       "      <td>10th</td>\n",
       "      <td>Thomas High School</td>\n",
       "      <td>95</td>\n",
       "      <td>70</td>\n",
       "      <td>Calificación Buena</td>\n",
       "      <td>Calificación Media</td>\n",
       "    </tr>\n",
       "    <tr>\n",
       "      <th>39167</th>\n",
       "      <td>Rebecca Tanner</td>\n",
       "      <td>F</td>\n",
       "      <td>9th</td>\n",
       "      <td>Thomas High School</td>\n",
       "      <td>73</td>\n",
       "      <td>84</td>\n",
       "      <td>Calificación Media</td>\n",
       "      <td>Calificación Media</td>\n",
       "    </tr>\n",
       "    <tr>\n",
       "      <th>39168</th>\n",
       "      <td>Desiree Kidd</td>\n",
       "      <td>F</td>\n",
       "      <td>10th</td>\n",
       "      <td>Thomas High School</td>\n",
       "      <td>99</td>\n",
       "      <td>90</td>\n",
       "      <td>Calificación Excelente</td>\n",
       "      <td>Calificación Buena</td>\n",
       "    </tr>\n",
       "    <tr>\n",
       "      <th>39169</th>\n",
       "      <td>Carolyn Jackson</td>\n",
       "      <td>F</td>\n",
       "      <td>11th</td>\n",
       "      <td>Thomas High School</td>\n",
       "      <td>95</td>\n",
       "      <td>75</td>\n",
       "      <td>Calificación Buena</td>\n",
       "      <td>Calificación Media</td>\n",
       "    </tr>\n",
       "  </tbody>\n",
       "</table>\n",
       "<p>39170 rows × 8 columns</p>\n",
       "</div>"
      ],
      "text/plain": [
       "               student_name gender grade         school_name  reading_score  \\\n",
       "Student ID                                                                    \n",
       "0              Paul Bradley      M   9th   Huang High School             66   \n",
       "1              Victor Smith      M  12th   Huang High School             94   \n",
       "2           Kevin Rodriguez      M  12th   Huang High School             90   \n",
       "3             Richard Scott      M  12th   Huang High School             67   \n",
       "4                Bonnie Ray      F   9th   Huang High School             97   \n",
       "...                     ...    ...   ...                 ...            ...   \n",
       "39165          Donna Howard      F  12th  Thomas High School             99   \n",
       "39166             Dawn Bell      F  10th  Thomas High School             95   \n",
       "39167        Rebecca Tanner      F   9th  Thomas High School             73   \n",
       "39168          Desiree Kidd      F  10th  Thomas High School             99   \n",
       "39169       Carolyn Jackson      F  11th  Thomas High School             95   \n",
       "\n",
       "            math_score                   cat_read                   cat_math  \n",
       "Student ID                                                                    \n",
       "0                   79  Calificación Reprobatoria         Calificación Media  \n",
       "1                   61         Calificación Buena  Calificación Reprobatoria  \n",
       "2                   60         Calificación Buena  Calificación Reprobatoria  \n",
       "3                   58  Calificación Reprobatoria  Calificación Reprobatoria  \n",
       "4                   84     Calificación Excelente         Calificación Media  \n",
       "...                ...                        ...                        ...  \n",
       "39165               90     Calificación Excelente         Calificación Buena  \n",
       "39166               70         Calificación Buena         Calificación Media  \n",
       "39167               84         Calificación Media         Calificación Media  \n",
       "39168               90     Calificación Excelente         Calificación Buena  \n",
       "39169               75         Calificación Buena         Calificación Media  \n",
       "\n",
       "[39170 rows x 8 columns]"
      ]
     },
     "execution_count": 15,
     "metadata": {},
     "output_type": "execute_result"
    }
   ],
   "source": [
    "data_students[\"cat_read\"].replace([range(0,70)], \"Calificación Reprobatoria\", inplace=True)\n",
    "data_students[\"cat_read\"].replace([range(70,86)], \"Calificación Media\", inplace=True)\n",
    "data_students[\"cat_read\"].replace([range(86,96)], \"Calificación Buena\", inplace=True)\n",
    "data_students[\"cat_read\"].replace([range(96,101)], \"Calificación Excelente\", inplace=True)\n",
    "data_students[\"cat_math\"].replace([range(0,70)], \"Calificación Reprobatoria\", inplace=True)\n",
    "data_students[\"cat_math\"].replace([range(70,86)], \"Calificación Media\", inplace=True)\n",
    "data_students[\"cat_math\"].replace([range(86,96)], \"Calificación Buena\", inplace=True)\n",
    "data_students[\"cat_math\"].replace([range(96,101)], \"Calificación Excelente\", inplace=True)\n",
    "data_students"
   ]
  },
  {
   "cell_type": "code",
   "execution_count": 16,
   "id": "caf3702e",
   "metadata": {},
   "outputs": [
    {
     "data": {
      "text/plain": [
       "<AxesSubplot:title={'center':'Gráfica por grupos de calificación de lectura'}, xlabel='school_name'>"
      ]
     },
     "execution_count": 16,
     "metadata": {},
     "output_type": "execute_result"
    },
    {
     "data": {
      "image/png": "[encoded data removed]",
      "text/plain": [
       "<Figure size 720x288 with 1 Axes>"
      ]
     },
     "metadata": {
      "needs_background": "light"
     },
     "output_type": "display_data"
    }
   ],
   "source": [
    "#Grafica de las categorías de calificaciones de lectura\n",
    "cat_read_scname=data_students[[\"school_name\",\"cat_read\"]]\n",
    "dummies_read=pd.get_dummies(cat_read_scname[[\"cat_read\"]])\n",
    "plotbycat_read=pd.concat([cat_read_scname,dummies_read],axis=1)\n",
    "plot_grouped_read=plotbycat_read.groupby([\"school_name\"]).sum()\n",
    "plot_grouped_read.plot(kind=\"bar\",color=[\"red\",\"yellow\",\"lightgreen\", \"green\"],figsize=(10,4), title=\"Gráfica por grupos de calificación de lectura\")"
   ]
  },
  {
   "cell_type": "code",
   "execution_count": 17,
   "id": "33425378",
   "metadata": {},
   "outputs": [
    {
     "data": {
      "text/plain": [
       "<AxesSubplot:title={'center':'Gráfica por grupos de calificación de matemáticas'}, xlabel='school_name'>"
      ]
     },
     "execution_count": 17,
     "metadata": {},
     "output_type": "execute_result"
    },
    {
     "data": {
      "image/png": "[encoded data removed]",
      "text/plain": [
       "<Figure size 720x288 with 1 Axes>"
      ]
     },
     "metadata": {
      "needs_background": "light"
     },
     "output_type": "display_data"
    }
   ],
   "source": [
    "#Grafica de las categorías de calificaciones de matematicas\n",
    "cat_math_scname=data_students[[\"school_name\",\"cat_math\"]]\n",
    "dummies_math=pd.get_dummies(cat_math_scname[[\"cat_math\"]])\n",
    "plotbycat_math=pd.concat([cat_math_scname,dummies_math],axis=1)\n",
    "plot_grouped_math=plotbycat_math.groupby([\"school_name\"]).sum()\n",
    "plot_grouped_math.plot(kind=\"bar\",color=[\"red\",\"yellow\",\"lightgreen\", \"green\"],figsize=(10,4), title=\"Gráfica por grupos de calificación de matemáticas\")"
   ]
  }
 ],
 "metadata": {
  "kernelspec": {
   "display_name": "Python 3 (ipykernel)",
   "language": "python",
   "name": "python3"
  },
  "language_info": {
   "codemirror_mode": {
    "name": "ipython",
    "version": 3
   },
   "file_extension": ".py",
   "mimetype": "text/x-python",
   "name": "python",
   "nbconvert_exporter": "python",
   "pygments_lexer": "ipython3",
   "version": "3.9.12"
  }
 },
 "nbformat": 4,
 "nbformat_minor": 5
}
