{
 "cells": [
  {
   "cell_type": "markdown",
   "id": "627182fc",
   "metadata": {},
   "source": [
    "# Actividad 11"
   ]
  },
  {
   "cell_type": "markdown",
   "id": "706c88b2",
   "metadata": {},
   "source": [
    "## Realizar una calculadora que permita ingresar montos de compra."
   ]
  },
  {
   "cell_type": "markdown",
   "id": "19be143a",
   "metadata": {},
   "source": [
    "### BÁSICA"
   ]
  },
  {
   "cell_type": "code",
   "execution_count": 4,
   "id": "af1310d1",
   "metadata": {},
   "outputs": [
    {
     "name": "stdout",
     "output_type": "stream",
     "text": [
      "Ingrese el monto de compra: (0 para salir)200\n",
      "Ingrese el monto de compra: (0 para salir)300\n",
      "Ingrese el monto de compra: (0 para salir)0\n",
      "Monto total con desucento del 10% $ 500.0\n"
     ]
    }
   ],
   "source": [
    "#Calculadora\n",
    "total=0\n",
    "compras=float(input(\"Ingrese el monto de compra (0 para salir):\"))\n",
    "while compras !=0:\n",
    "    if compras<0:\n",
    "        print(\"Monto no valido, ingrese un monto valido:\")\n",
    "    else:\n",
    "        total+=compras\n",
    "    compras=float(input(\"Ingrese el monto de compra (0 para salir):\"))\n",
    "if total>1000:\n",
    "    total-=total*.1\n",
    "    print(\"El monto de su compra le brinda un 10% de descuento\")\n",
    "print(\"Monto total\", total)\n"
   ]
  },
  {
   "cell_type": "markdown",
   "id": "491c6a07",
   "metadata": {},
   "source": [
    "### AVANZADA"
   ]
  },
  {
   "cell_type": "code",
   "execution_count": 17,
   "id": "5829a1d8",
   "metadata": {},
   "outputs": [
    {
     "name": "stdout",
     "output_type": "stream",
     "text": [
      "Ingrese el tiempo dentro del estacionamiento (0 para salir):480\n",
      "Ingrese el tiempo dentro del estacionamiento (0 para salir):0\n",
      "Excedió el tiempo en el estacionamiento, se hizo un cargo de $200 pesos adicionales\n",
      "Monto total 330\n"
     ]
    }
   ],
   "source": [
    "#Calculadora Estacionamiento\n",
    "total_a_pagar=0\n",
    "tarifa_fija=25\n",
    "horas=0\n",
    "tiempo_total=0\n",
    "tiempo=float(input(\"Ingrese el tiempo dentro del estacionamiento (0 para salir):\"))\n",
    "while tiempo !=0:\n",
    "    if tiempo<0:\n",
    "        print(\"Valor no valido, ingrese de nuevo el tiempo:\")\n",
    "    else:\n",
    "        tiempo_total=tiempo_total+tiempo\n",
    "        horas=math.ceil(tiempo_total/60)\n",
    "    tiempo=float(input(\"Ingrese el tiempo dentro del estacionamiento (0 para salir):\"))\n",
    "    \n",
    "if horas==1:\n",
    "    total_a_pagar=tarifa_fija\n",
    "elif horas>1 and horas<8:\n",
    "    total_a_pagar=tarifa_fija+((horas-1)*15)\n",
    "elif horas>=8:\n",
    "    total_a_pagar=tarifa_fija+((horas-1)*15)+200\n",
    "    print(\"Excedió el tiempo en el estacionamiento, se hizo un cargo de $200 pesos adicionales\")\n",
    "print(\"Monto total\", total_a_pagar)"
   ]
  }
 ],
 "metadata": {
  "kernelspec": {
   "display_name": "Python 3",
   "language": "python",
   "name": "python3"
  },
  "language_info": {
   "codemirror_mode": {
    "name": "ipython",
    "version": 3
   },
   "file_extension": ".py",
   "mimetype": "text/x-python",
   "name": "python",
   "nbconvert_exporter": "python",
   "pygments_lexer": "ipython3",
   "version": "3.6.13"
  }
 },
 "nbformat": 4,
 "nbformat_minor": 5
}
